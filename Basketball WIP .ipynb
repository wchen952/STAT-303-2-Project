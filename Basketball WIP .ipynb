{
 "cells": [
  {
   "cell_type": "code",
   "execution_count": null,
   "id": "d01d2ebe",
   "metadata": {},
   "outputs": [],
   "source": [
    "import pandas as pd\n",
    "import numpy as np\n",
    "import statsmodels.formula.api as smf\n",
    "import seaborn as sns\n",
    "import matplotlib.pyplot as plt\n",
    "import statsmodels.api as sm\n",
    "\n",
    "\n",
    "basketball_abbrev = pd.read_csv(\"basketball_abbrev.csv\")\n",
    "basketball_award_coaches = pd.read_csv(\"basketball_awards_coaches.csv\")\n",
    "basketball_awards_players = pd.read_csv(\"basketball_awards_players.csv\")\n",
    "basketball_coaches = pd.read_csv(\"basketball_coaches.csv\")\n",
    "basketball_draft = pd.read_csv(\"basketball_draft.csv\")\n",
    "basketball_hof = pd.read_csv(\"basketball_hof.csv\")\n",
    "basketball_master = pd.read_csv(\"basketball_master.csv\")\n",
    "basketball_player_allstar = pd.read_csv(\"basketball_player_allstar.csv\")\n",
    "basketball_series_post = pd.read_csv(\"basketball_series_post.csv\")\n",
    "basketball_teams = pd.read_csv(\"basketball_teams.csv\")"
   ]
  }
 ],
 "metadata": {
  "language_info": {
   "name": "python"
  }
 },
 "nbformat": 4,
 "nbformat_minor": 5
}
