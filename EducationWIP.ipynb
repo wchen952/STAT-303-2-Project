{
 "cells": [
  {
   "cell_type": "code",
   "execution_count": 6,
   "id": "d01d2ebe",
   "metadata": {},
   "outputs": [],
   "source": [
    "# import packages\n",
    "import pandas as pd\n",
    "import numpy as np\n",
    "import seaborn as sns\n",
    "import matplotlib.pyplot as plt\n",
    "import statsmodels.formula.api as smf\n",
    "from statsmodels.stats.outliers_influence import variance_inflation_factor\n",
    "from statsmodels.tools.tools import add_constant\n",
    "\n",
    "# read and look at data\n",
    "edu = pd.read_csv(\"https://raw.githubusercontent.com/wchen952/STAT-303-2-Project/main/xAPI-Edu-Data.csv\")"
   ]
  },
  {
   "cell_type": "code",
   "execution_count": 7,
   "id": "6b5fc803",
   "metadata": {},
   "outputs": [],
   "source": [
    "# get two grades\n",
    "edu = edu.loc[edu['GradeID'].isin(['G-07','G-08'])]\n",
    "\n",
    "# drop stageID, sectionID, semester, relation, parentansweringsurvey, parentschoolsatisfaction\n",
    "edu = edu.drop(['NationalITy', 'PlaceofBirth', 'StageID', 'SectionID', 'Semester', 'Relation', 'ParentAnsweringSurvey', 'ParentschoolSatisfaction'], axis = 1)\n",
    "\n",
    "#dropna\n",
    "edu = edu.dropna()\n",
    "\n",
    "# drop English topic because there are only two observations \n",
    "edu = edu[edu.Topic != 'English']\n",
    "\n",
    "#dropping the lowest grades\n",
    "edu = edu[edu.Class != 'L']"
   ]
  },
  {
   "cell_type": "code",
   "execution_count": 8,
   "id": "092f10c1",
   "metadata": {},
   "outputs": [
    {
     "data": {
      "text/html": [
       "<div>\n",
       "<style scoped>\n",
       "    .dataframe tbody tr th:only-of-type {\n",
       "        vertical-align: middle;\n",
       "    }\n",
       "\n",
       "    .dataframe tbody tr th {\n",
       "        vertical-align: top;\n",
       "    }\n",
       "\n",
       "    .dataframe thead th {\n",
       "        text-align: right;\n",
       "    }\n",
       "</style>\n",
       "<table border=\"1\" class=\"dataframe\">\n",
       "  <thead>\n",
       "    <tr style=\"text-align: right;\">\n",
       "      <th></th>\n",
       "      <th>raisedhands</th>\n",
       "      <th>VisITedResources</th>\n",
       "      <th>AnnouncementsView</th>\n",
       "      <th>Discussion</th>\n",
       "    </tr>\n",
       "  </thead>\n",
       "  <tbody>\n",
       "    <tr>\n",
       "      <th>raisedhands</th>\n",
       "      <td>1.000000</td>\n",
       "      <td>0.526306</td>\n",
       "      <td>0.534150</td>\n",
       "      <td>0.261052</td>\n",
       "    </tr>\n",
       "    <tr>\n",
       "      <th>VisITedResources</th>\n",
       "      <td>0.526306</td>\n",
       "      <td>1.000000</td>\n",
       "      <td>0.458145</td>\n",
       "      <td>0.089096</td>\n",
       "    </tr>\n",
       "    <tr>\n",
       "      <th>AnnouncementsView</th>\n",
       "      <td>0.534150</td>\n",
       "      <td>0.458145</td>\n",
       "      <td>1.000000</td>\n",
       "      <td>0.262746</td>\n",
       "    </tr>\n",
       "    <tr>\n",
       "      <th>Discussion</th>\n",
       "      <td>0.261052</td>\n",
       "      <td>0.089096</td>\n",
       "      <td>0.262746</td>\n",
       "      <td>1.000000</td>\n",
       "    </tr>\n",
       "  </tbody>\n",
       "</table>\n",
       "</div>"
      ],
      "text/plain": [
       "                   raisedhands  VisITedResources  AnnouncementsView  \\\n",
       "raisedhands           1.000000          0.526306           0.534150   \n",
       "VisITedResources      0.526306          1.000000           0.458145   \n",
       "AnnouncementsView     0.534150          0.458145           1.000000   \n",
       "Discussion            0.261052          0.089096           0.262746   \n",
       "\n",
       "                   Discussion  \n",
       "raisedhands          0.261052  \n",
       "VisITedResources     0.089096  \n",
       "AnnouncementsView    0.262746  \n",
       "Discussion           1.000000  "
      ]
     },
     "execution_count": 8,
     "metadata": {},
     "output_type": "execute_result"
    }
   ],
   "source": [
    "edu.corr()"
   ]
  }
 ],
 "metadata": {
  "kernelspec": {
   "display_name": "Python 3 (ipykernel)",
   "language": "python",
   "name": "python3"
  },
  "language_info": {
   "codemirror_mode": {
    "name": "ipython",
    "version": 3
   },
   "file_extension": ".py",
   "mimetype": "text/x-python",
   "name": "python",
   "nbconvert_exporter": "python",
   "pygments_lexer": "ipython3",
   "version": "3.9.13"
  }
 },
 "nbformat": 4,
 "nbformat_minor": 5
}
