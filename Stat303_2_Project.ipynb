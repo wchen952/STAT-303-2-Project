{
 "cells": [
  {
   "cell_type": "code",
   "execution_count": 22,
   "id": "9c8afe5a",
   "metadata": {},
   "outputs": [],
   "source": [
    "# import packages\n",
    "import pandas as pd\n",
    "import numpy as np\n",
    "import seaborn as sns\n",
    "import matplotlib.pyplot as plt\n",
    "import statsmodels.formula.api as smf\n",
    "from statsmodels.stats.outliers_influence import variance_inflation_factor\n",
    "from statsmodels.tools.tools import add_constant\n",
    "from sklearn.metrics import roc_curve, auc\n",
    "\n",
    "\n",
    "# read and look at data\n",
    "edu = pd.read_csv('https://raw.githubusercontent.com/wchen952/STAT-303-2-Project/main/data/xAPI-Edu-Data.csv')\n",
    "edu_test = pd.read_csv(\"https://raw.githubusercontent.com/wchen952/STAT-303-2-Project/main/data/edu_test.csv\")"
   ]
  },
  {
   "cell_type": "code",
   "execution_count": 23,
   "id": "f74d5f72",
   "metadata": {},
   "outputs": [],
   "source": [
    "# make train dataset\n",
    "edu_train = edu.copy()"
   ]
  },
  {
   "cell_type": "code",
   "execution_count": 24,
   "id": "63c81270",
   "metadata": {},
   "outputs": [],
   "source": [
    "# clean data \n",
    "\n",
    "# get two grades\n",
    "edu_train = edu_train.loc[edu['GradeID'].isin(['G-07','G-08'])]\n",
    "\n",
    "# drop stageID, sectionID, semester, relation, parentansweringsurvey, parentschoolsatisfaction\n",
    "edu_train.drop(['NationalITy', 'PlaceofBirth', 'StageID', 'SectionID', 'Semester', 'Relation', 'ParentAnsweringSurvey', 'ParentschoolSatisfaction'], inplace = True, axis = 1)\n",
    "\n",
    "#dropping na values\n",
    "edu_train.dropna(inplace =True)\n",
    "\n",
    "# drop English topic because there are only two observations \n",
    "edu_train = edu_train[edu_train.Topic != 'English']\n",
    "\n",
    "# drop low\n",
    "edu_train = edu_train[edu_train.Class != 'L']\n",
    "\n",
    "#replacing M with 0 and H with 1\n",
    "edu_train[\"Class\"].replace(to_replace = {'M': 0, 'H': 1}, inplace = True)"
   ]
  },
  {
   "cell_type": "code",
   "execution_count": 25,
   "id": "4e9521e8",
   "metadata": {},
   "outputs": [
    {
     "data": {
      "text/plain": [
       "Biology      26\n",
       "Geology      24\n",
       "Arabic       22\n",
       "Spanish      17\n",
       "Chemistry    16\n",
       "IT           13\n",
       "Science      13\n",
       "Quran        13\n",
       "History      10\n",
       "Math          9\n",
       "Name: Topic, dtype: int64"
      ]
     },
     "execution_count": 25,
     "metadata": {},
     "output_type": "execute_result"
    }
   ],
   "source": [
    "edu_train['Topic'].value_counts()"
   ]
  },
  {
   "cell_type": "code",
   "execution_count": 26,
   "id": "219a8b43",
   "metadata": {},
   "outputs": [
    {
     "data": {
      "text/plain": [
       "0    101\n",
       "1     62\n",
       "Name: Class, dtype: int64"
      ]
     },
     "execution_count": 26,
     "metadata": {},
     "output_type": "execute_result"
    }
   ],
   "source": [
    "edu_train['Class'].value_counts()"
   ]
  },
  {
   "cell_type": "code",
   "execution_count": 27,
   "id": "6f0401c0",
   "metadata": {
    "scrolled": true
   },
   "outputs": [
    {
     "name": "stdout",
     "output_type": "stream",
     "text": [
      "Optimization terminated successfully.\n",
      "         Current function value: 0.442542\n",
      "         Iterations 7\n"
     ]
    },
    {
     "data": {
      "text/html": [
       "<table class=\"simpletable\">\n",
       "<caption>Logit Regression Results</caption>\n",
       "<tr>\n",
       "  <th>Dep. Variable:</th>         <td>Class</td>      <th>  No. Observations:  </th>  <td>   163</td>  \n",
       "</tr>\n",
       "<tr>\n",
       "  <th>Model:</th>                 <td>Logit</td>      <th>  Df Residuals:      </th>  <td>   156</td>  \n",
       "</tr>\n",
       "<tr>\n",
       "  <th>Method:</th>                 <td>MLE</td>       <th>  Df Model:          </th>  <td>     6</td>  \n",
       "</tr>\n",
       "<tr>\n",
       "  <th>Date:</th>            <td>Tue, 28 Feb 2023</td> <th>  Pseudo R-squ.:     </th>  <td>0.3338</td>  \n",
       "</tr>\n",
       "<tr>\n",
       "  <th>Time:</th>                <td>15:36:42</td>     <th>  Log-Likelihood:    </th> <td> -72.134</td> \n",
       "</tr>\n",
       "<tr>\n",
       "  <th>converged:</th>             <td>True</td>       <th>  LL-Null:           </th> <td> -108.27</td> \n",
       "</tr>\n",
       "<tr>\n",
       "  <th>Covariance Type:</th>     <td>nonrobust</td>    <th>  LLR p-value:       </th> <td>1.395e-13</td>\n",
       "</tr>\n",
       "</table>\n",
       "<table class=\"simpletable\">\n",
       "<tr>\n",
       "                <td></td>                   <th>coef</th>     <th>std err</th>      <th>z</th>      <th>P>|z|</th>  <th>[0.025</th>    <th>0.975]</th>  \n",
       "</tr>\n",
       "<tr>\n",
       "  <th>Intercept</th>                     <td>   -8.8299</td> <td>    1.708</td> <td>   -5.171</td> <td> 0.000</td> <td>  -12.177</td> <td>   -5.483</td>\n",
       "</tr>\n",
       "<tr>\n",
       "  <th>gender[T.M]</th>                   <td>   -1.3045</td> <td>    0.476</td> <td>   -2.740</td> <td> 0.006</td> <td>   -2.238</td> <td>   -0.371</td>\n",
       "</tr>\n",
       "<tr>\n",
       "  <th>StudentAbsenceDays[T.Under-7]</th> <td>    2.2674</td> <td>    0.796</td> <td>    2.849</td> <td> 0.004</td> <td>    0.707</td> <td>    3.827</td>\n",
       "</tr>\n",
       "<tr>\n",
       "  <th>raisedhands</th>                   <td>    0.0250</td> <td>    0.012</td> <td>    2.158</td> <td> 0.031</td> <td>    0.002</td> <td>    0.048</td>\n",
       "</tr>\n",
       "<tr>\n",
       "  <th>VisITedResources</th>              <td>    0.0550</td> <td>    0.017</td> <td>    3.148</td> <td> 0.002</td> <td>    0.021</td> <td>    0.089</td>\n",
       "</tr>\n",
       "<tr>\n",
       "  <th>AnnouncementsView</th>             <td>    0.0014</td> <td>    0.010</td> <td>    0.134</td> <td> 0.893</td> <td>   -0.019</td> <td>    0.021</td>\n",
       "</tr>\n",
       "<tr>\n",
       "  <th>Discussion</th>                    <td>    0.0204</td> <td>    0.008</td> <td>    2.439</td> <td> 0.015</td> <td>    0.004</td> <td>    0.037</td>\n",
       "</tr>\n",
       "</table>"
      ],
      "text/plain": [
       "<class 'statsmodels.iolib.summary.Summary'>\n",
       "\"\"\"\n",
       "                           Logit Regression Results                           \n",
       "==============================================================================\n",
       "Dep. Variable:                  Class   No. Observations:                  163\n",
       "Model:                          Logit   Df Residuals:                      156\n",
       "Method:                           MLE   Df Model:                            6\n",
       "Date:                Tue, 28 Feb 2023   Pseudo R-squ.:                  0.3338\n",
       "Time:                        15:36:42   Log-Likelihood:                -72.134\n",
       "converged:                       True   LL-Null:                       -108.27\n",
       "Covariance Type:            nonrobust   LLR p-value:                 1.395e-13\n",
       "=================================================================================================\n",
       "                                    coef    std err          z      P>|z|      [0.025      0.975]\n",
       "-------------------------------------------------------------------------------------------------\n",
       "Intercept                        -8.8299      1.708     -5.171      0.000     -12.177      -5.483\n",
       "gender[T.M]                      -1.3045      0.476     -2.740      0.006      -2.238      -0.371\n",
       "StudentAbsenceDays[T.Under-7]     2.2674      0.796      2.849      0.004       0.707       3.827\n",
       "raisedhands                       0.0250      0.012      2.158      0.031       0.002       0.048\n",
       "VisITedResources                  0.0550      0.017      3.148      0.002       0.021       0.089\n",
       "AnnouncementsView                 0.0014      0.010      0.134      0.893      -0.019       0.021\n",
       "Discussion                        0.0204      0.008      2.439      0.015       0.004       0.037\n",
       "=================================================================================================\n",
       "\"\"\""
      ]
     },
     "execution_count": 27,
     "metadata": {},
     "output_type": "execute_result"
    }
   ],
   "source": [
    "# developing model\n",
    "model1 = smf.logit(formula = 'Class~gender+raisedhands+VisITedResources+AnnouncementsView+Discussion+StudentAbsenceDays', data = edu_train).fit()\n",
    "model1.summary()"
   ]
  },
  {
   "cell_type": "code",
   "execution_count": null,
   "id": "48d02a11",
   "metadata": {},
   "outputs": [],
   "source": []
  },
  {
   "cell_type": "code",
   "execution_count": 28,
   "id": "301a4532",
   "metadata": {},
   "outputs": [
    {
     "data": {
      "text/plain": [
       "0     0.096737\n",
       "1     0.155446\n",
       "2     0.906027\n",
       "3     0.125585\n",
       "4     0.358812\n",
       "5     0.711294\n",
       "6     0.007423\n",
       "7     0.004618\n",
       "8     0.000098\n",
       "9     0.000461\n",
       "10    0.729591\n",
       "11    0.725637\n",
       "12    0.004811\n",
       "13    0.003411\n",
       "14    0.865975\n",
       "15    0.606794\n",
       "16    0.012744\n",
       "17    0.037264\n",
       "18    0.028499\n",
       "19    0.039297\n",
       "20    0.217790\n",
       "21    0.131981\n",
       "22    0.937979\n",
       "23    0.925367\n",
       "24    0.001899\n",
       "25    0.002195\n",
       "26    0.729586\n",
       "27    0.841498\n",
       "28    0.322416\n",
       "29    0.413903\n",
       "dtype: float64"
      ]
     },
     "execution_count": 28,
     "metadata": {},
     "output_type": "execute_result"
    }
   ],
   "source": [
    "# predict\n",
    "pred_class = model1.predict(edu_test)\n",
    "pred_class"
   ]
  },
  {
   "cell_type": "code",
   "execution_count": 29,
   "id": "6071a866",
   "metadata": {},
   "outputs": [
    {
     "data": {
      "text/html": [
       "<div>\n",
       "<style scoped>\n",
       "    .dataframe tbody tr th:only-of-type {\n",
       "        vertical-align: middle;\n",
       "    }\n",
       "\n",
       "    .dataframe tbody tr th {\n",
       "        vertical-align: top;\n",
       "    }\n",
       "\n",
       "    .dataframe thead th {\n",
       "        text-align: right;\n",
       "    }\n",
       "</style>\n",
       "<table border=\"1\" class=\"dataframe\">\n",
       "  <thead>\n",
       "    <tr style=\"text-align: right;\">\n",
       "      <th></th>\n",
       "      <th>raisedhands</th>\n",
       "      <th>VisITedResources</th>\n",
       "      <th>AnnouncementsView</th>\n",
       "      <th>Discussion</th>\n",
       "      <th>Class</th>\n",
       "    </tr>\n",
       "  </thead>\n",
       "  <tbody>\n",
       "    <tr>\n",
       "      <th>raisedhands</th>\n",
       "      <td>1.000000</td>\n",
       "      <td>0.526306</td>\n",
       "      <td>0.534150</td>\n",
       "      <td>0.261052</td>\n",
       "      <td>0.379809</td>\n",
       "    </tr>\n",
       "    <tr>\n",
       "      <th>VisITedResources</th>\n",
       "      <td>0.526306</td>\n",
       "      <td>1.000000</td>\n",
       "      <td>0.458145</td>\n",
       "      <td>0.089096</td>\n",
       "      <td>0.400705</td>\n",
       "    </tr>\n",
       "    <tr>\n",
       "      <th>AnnouncementsView</th>\n",
       "      <td>0.534150</td>\n",
       "      <td>0.458145</td>\n",
       "      <td>1.000000</td>\n",
       "      <td>0.262746</td>\n",
       "      <td>0.219604</td>\n",
       "    </tr>\n",
       "    <tr>\n",
       "      <th>Discussion</th>\n",
       "      <td>0.261052</td>\n",
       "      <td>0.089096</td>\n",
       "      <td>0.262746</td>\n",
       "      <td>1.000000</td>\n",
       "      <td>0.269701</td>\n",
       "    </tr>\n",
       "    <tr>\n",
       "      <th>Class</th>\n",
       "      <td>0.379809</td>\n",
       "      <td>0.400705</td>\n",
       "      <td>0.219604</td>\n",
       "      <td>0.269701</td>\n",
       "      <td>1.000000</td>\n",
       "    </tr>\n",
       "  </tbody>\n",
       "</table>\n",
       "</div>"
      ],
      "text/plain": [
       "                   raisedhands  VisITedResources  AnnouncementsView  \\\n",
       "raisedhands           1.000000          0.526306           0.534150   \n",
       "VisITedResources      0.526306          1.000000           0.458145   \n",
       "AnnouncementsView     0.534150          0.458145           1.000000   \n",
       "Discussion            0.261052          0.089096           0.262746   \n",
       "Class                 0.379809          0.400705           0.219604   \n",
       "\n",
       "                   Discussion     Class  \n",
       "raisedhands          0.261052  0.379809  \n",
       "VisITedResources     0.089096  0.400705  \n",
       "AnnouncementsView    0.262746  0.219604  \n",
       "Discussion           1.000000  0.269701  \n",
       "Class                0.269701  1.000000  "
      ]
     },
     "execution_count": 29,
     "metadata": {},
     "output_type": "execute_result"
    }
   ],
   "source": [
    "edu_train.corr()"
   ]
  },
  {
   "cell_type": "code",
   "execution_count": 30,
   "id": "736e9fa0",
   "metadata": {},
   "outputs": [
    {
     "name": "stdout",
     "output_type": "stream",
     "text": [
      "             feature       VIF\n",
      "0              const  5.248221\n",
      "1        raisedhands  2.317627\n",
      "2   VisITedResources  2.076660\n",
      "3  AnnouncementsView  2.003386\n",
      "4         Discussion  1.228993\n"
     ]
    }
   ],
   "source": [
    "continuous_vars = edu[['raisedhands','VisITedResources','AnnouncementsView','Discussion']]\n",
    "\n",
    "continuous_vars.columns[1:]\n",
    "\n",
    "continuous_vars = add_constant(continuous_vars)\n",
    "vif_data = pd.DataFrame()\n",
    "vif_data[\"feature\"] = continuous_vars.columns\n",
    "\n",
    "for i in range(len(continuous_vars.columns)):\n",
    "    vif_data.loc[i,'VIF'] = variance_inflation_factor(continuous_vars.values, i)\n",
    "\n",
    "print(vif_data)"
   ]
  },
  {
   "cell_type": "code",
   "execution_count": 31,
   "id": "b286946e",
   "metadata": {},
   "outputs": [],
   "source": [
    "def confusion_matrix_test(data,actual_values,model,cutoff=0.5):\n",
    "#Predict the values using the Logit model\n",
    "    pred_values = model.predict(data)\n",
    "# Specify the bins\n",
    "    bins=np.array([0,cutoff,1])\n",
    "#Confusion matrix\n",
    "    cm = np.histogram2d(actual_values, pred_values, bins=bins)[0]\n",
    "    cm_df = pd.DataFrame(cm)\n",
    "    cm_df.columns = ['Predicted 0','Predicted 1']\n",
    "    cm_df = cm_df.rename(index={0: 'Actual 0',1:'Actual 1'})\n",
    "    accuracy = (cm[0,0]+cm[1,1])/cm.sum()\n",
    "    sns.heatmap(cm_df, annot=True, cmap='Blues', fmt='g')\n",
    "    plt.ylabel(\"Actual Values\")\n",
    "    plt.xlabel(\"Predicted Values\")\n",
    "    print(\"Classification accuracy = {:.1%}\".format(accuracy))\n"
   ]
  },
  {
   "cell_type": "code",
   "execution_count": 32,
   "id": "90033511",
   "metadata": {},
   "outputs": [
    {
     "name": "stdout",
     "output_type": "stream",
     "text": [
      "Classification accuracy = 80.0%\n"
     ]
    },
    {
     "data": {
      "image/png": "[encoded data removed]",
      "text/plain": [
       "<Figure size 640x480 with 2 Axes>"
      ]
     },
     "metadata": {},
     "output_type": "display_data"
    }
   ],
   "source": [
    "confusion_matrix_test(edu_test,edu_test.Class,model1)\n"
   ]
  },
  {
   "cell_type": "code",
   "execution_count": 33,
   "id": "b61c74e1",
   "metadata": {},
   "outputs": [
    {
     "name": "stdout",
     "output_type": "stream",
     "text": [
      "Optimization terminated successfully.\n",
      "         Current function value: 0.427232\n",
      "         Iterations 7\n"
     ]
    },
    {
     "data": {
      "text/html": [
       "<table class=\"simpletable\">\n",
       "<caption>Logit Regression Results</caption>\n",
       "<tr>\n",
       "  <th>Dep. Variable:</th>         <td>Class</td>      <th>  No. Observations:  </th>  <td>   163</td>  \n",
       "</tr>\n",
       "<tr>\n",
       "  <th>Model:</th>                 <td>Logit</td>      <th>  Df Residuals:      </th>  <td>   154</td>  \n",
       "</tr>\n",
       "<tr>\n",
       "  <th>Method:</th>                 <td>MLE</td>       <th>  Df Model:          </th>  <td>     8</td>  \n",
       "</tr>\n",
       "<tr>\n",
       "  <th>Date:</th>            <td>Tue, 28 Feb 2023</td> <th>  Pseudo R-squ.:     </th>  <td>0.3568</td>  \n",
       "</tr>\n",
       "<tr>\n",
       "  <th>Time:</th>                <td>15:36:43</td>     <th>  Log-Likelihood:    </th> <td> -69.639</td> \n",
       "</tr>\n",
       "<tr>\n",
       "  <th>converged:</th>             <td>True</td>       <th>  LL-Null:           </th> <td> -108.27</td> \n",
       "</tr>\n",
       "<tr>\n",
       "  <th>Covariance Type:</th>     <td>nonrobust</td>    <th>  LLR p-value:       </th> <td>1.733e-13</td>\n",
       "</tr>\n",
       "</table>\n",
       "<table class=\"simpletable\">\n",
       "<tr>\n",
       "                <td></td>                   <th>coef</th>     <th>std err</th>      <th>z</th>      <th>P>|z|</th>  <th>[0.025</th>    <th>0.975]</th>  \n",
       "</tr>\n",
       "<tr>\n",
       "  <th>Intercept</th>                     <td>   -8.2351</td> <td>    1.920</td> <td>   -4.288</td> <td> 0.000</td> <td>  -11.999</td> <td>   -4.471</td>\n",
       "</tr>\n",
       "<tr>\n",
       "  <th>gender[T.M]</th>                   <td>   -1.5755</td> <td>    1.703</td> <td>   -0.925</td> <td> 0.355</td> <td>   -4.914</td> <td>    1.763</td>\n",
       "</tr>\n",
       "<tr>\n",
       "  <th>StudentAbsenceDays[T.Under-7]</th> <td>    2.6446</td> <td>    0.855</td> <td>    3.094</td> <td> 0.002</td> <td>    0.969</td> <td>    4.320</td>\n",
       "</tr>\n",
       "<tr>\n",
       "  <th>Discussion</th>                    <td>   -0.0052</td> <td>    0.015</td> <td>   -0.340</td> <td> 0.734</td> <td>   -0.035</td> <td>    0.025</td>\n",
       "</tr>\n",
       "<tr>\n",
       "  <th>gender[T.M]:Discussion</th>        <td>    0.0381</td> <td>    0.019</td> <td>    2.035</td> <td> 0.042</td> <td>    0.001</td> <td>    0.075</td>\n",
       "</tr>\n",
       "<tr>\n",
       "  <th>raisedhands</th>                   <td>    0.0360</td> <td>    0.015</td> <td>    2.383</td> <td> 0.017</td> <td>    0.006</td> <td>    0.066</td>\n",
       "</tr>\n",
       "<tr>\n",
       "  <th>gender[T.M]:raisedhands</th>       <td>   -0.0257</td> <td>    0.022</td> <td>   -1.180</td> <td> 0.238</td> <td>   -0.068</td> <td>    0.017</td>\n",
       "</tr>\n",
       "<tr>\n",
       "  <th>VisITedResources</th>              <td>    0.0471</td> <td>    0.018</td> <td>    2.672</td> <td> 0.008</td> <td>    0.013</td> <td>    0.082</td>\n",
       "</tr>\n",
       "<tr>\n",
       "  <th>AnnouncementsView</th>             <td>    0.0065</td> <td>    0.011</td> <td>    0.610</td> <td> 0.542</td> <td>   -0.014</td> <td>    0.028</td>\n",
       "</tr>\n",
       "</table>"
      ],
      "text/plain": [
       "<class 'statsmodels.iolib.summary.Summary'>\n",
       "\"\"\"\n",
       "                           Logit Regression Results                           \n",
       "==============================================================================\n",
       "Dep. Variable:                  Class   No. Observations:                  163\n",
       "Model:                          Logit   Df Residuals:                      154\n",
       "Method:                           MLE   Df Model:                            8\n",
       "Date:                Tue, 28 Feb 2023   Pseudo R-squ.:                  0.3568\n",
       "Time:                        15:36:43   Log-Likelihood:                -69.639\n",
       "converged:                       True   LL-Null:                       -108.27\n",
       "Covariance Type:            nonrobust   LLR p-value:                 1.733e-13\n",
       "=================================================================================================\n",
       "                                    coef    std err          z      P>|z|      [0.025      0.975]\n",
       "-------------------------------------------------------------------------------------------------\n",
       "Intercept                        -8.2351      1.920     -4.288      0.000     -11.999      -4.471\n",
       "gender[T.M]                      -1.5755      1.703     -0.925      0.355      -4.914       1.763\n",
       "StudentAbsenceDays[T.Under-7]     2.6446      0.855      3.094      0.002       0.969       4.320\n",
       "Discussion                       -0.0052      0.015     -0.340      0.734      -0.035       0.025\n",
       "gender[T.M]:Discussion            0.0381      0.019      2.035      0.042       0.001       0.075\n",
       "raisedhands                       0.0360      0.015      2.383      0.017       0.006       0.066\n",
       "gender[T.M]:raisedhands          -0.0257      0.022     -1.180      0.238      -0.068       0.017\n",
       "VisITedResources                  0.0471      0.018      2.672      0.008       0.013       0.082\n",
       "AnnouncementsView                 0.0065      0.011      0.610      0.542      -0.014       0.028\n",
       "=================================================================================================\n",
       "\"\"\""
      ]
     },
     "execution_count": 33,
     "metadata": {},
     "output_type": "execute_result"
    }
   ],
   "source": [
    "model2 = smf.logit(formula = 'Class ~ gender*Discussion + gender*raisedhands + VisITedResources + AnnouncementsView + StudentAbsenceDays', data = edu_train).fit()\n",
    "model2.summary()"
   ]
  },
  {
   "cell_type": "markdown",
   "id": "cd63a84e",
   "metadata": {},
   "source": []
  },
  {
   "cell_type": "code",
   "execution_count": 34,
   "id": "32c899f1",
   "metadata": {},
   "outputs": [
    {
     "name": "stdout",
     "output_type": "stream",
     "text": [
      "Classification accuracy = 73.3%\n"
     ]
    },
    {
     "data": {
      "image/png": "[encoded data removed]",
      "text/plain": [
       "<Figure size 640x480 with 2 Axes>"
      ]
     },
     "metadata": {},
     "output_type": "display_data"
    }
   ],
   "source": [
    "confusion_matrix_test(edu_test,edu_test.Class,model2)\n",
    "\n"
   ]
  },
  {
   "cell_type": "code",
   "execution_count": 35,
   "id": "df2ebe53",
   "metadata": {},
   "outputs": [],
   "source": [
    "#Function to compute confusion matrix and prediction accuracy on test/train data\n",
    "def confusion_matrix_data(data,actual_values,model,cutoff=0.5):\n",
    "#Predict the values using the Logit model\n",
    "    pred_values = model.predict(data)\n",
    "# Specify the bins\n",
    "    bins=np.array([0,cutoff,1])\n",
    "#Confusion matrix\n",
    "    cm = np.histogram2d(actual_values, pred_values, bins=bins)[0]\n",
    "    cm_df = pd.DataFrame(cm)\n",
    "    cm_df.columns = ['Predicted 0','Predicted 1']\n",
    "    cm_df = cm_df.rename(index={0: 'Actual 0',1:'Actual 1'})\n",
    "# Calculate the accuracy\n",
    "    accuracy = (cm[0,0]+cm[1,1])/cm.sum()\n",
    "    fnr = (cm[1,0])/(cm[1,0]+cm[1,1])\n",
    "    precision = (cm[1,1])/(cm[0,1]+cm[1,1])\n",
    "    fpr = (cm[0,1])/(cm[0,0]+cm[0,1])\n",
    "    tpr = (cm[1,1])/(cm[1,0]+cm[1,1])\n",
    "    fpr_roc, tpr_roc, auc_thresholds = roc_curve(actual_values, pred_values)\n",
    "    auc_value = (auc(fpr_roc, tpr_roc))# AUC of ROC\n",
    "    sns.heatmap(cm_df, annot=True, cmap='Blues', fmt='g')\n",
    "    plt.ylabel(\"Actual Values\")\n",
    "    plt.xlabel(\"Predicted Values\")\n",
    "    print(\"Classification accuracy = {:.1%}\".format(accuracy))\n",
    "    print(\"Precision = {:.1%}\".format(precision))\n",
    "    print(\"TPR or Recall = {:.1%}\".format(tpr))\n",
    "    print(\"FNR = {:.1%}\".format(fnr))\n",
    "    print(\"FPR = {:.1%}\".format(fpr))\n",
    "    print(\"ROC-AUC = {:.1%}\".format(auc_value))\n",
    "\n"
   ]
  },
  {
   "cell_type": "code",
   "execution_count": 36,
   "id": "611e7a78",
   "metadata": {},
   "outputs": [
    {
     "name": "stdout",
     "output_type": "stream",
     "text": [
      "Classification accuracy = 73.3%\n",
      "Precision = 68.8%\n",
      "TPR or Recall = 78.6%\n",
      "FNR = 21.4%\n",
      "FPR = 31.2%\n",
      "ROC-AUC = 82.1%\n"
     ]
    },
    {
     "data": {
      "image/png": "[encoded data removed]",
      "text/plain": [
       "<Figure size 640x480 with 2 Axes>"
      ]
     },
     "metadata": {},
     "output_type": "display_data"
    }
   ],
   "source": [
    "confusion_matrix_data(edu_test,edu_test.Class,model2,0.1)"
   ]
  },
  {
   "cell_type": "code",
   "execution_count": 37,
   "id": "414d19b4",
   "metadata": {},
   "outputs": [
    {
     "name": "stdout",
     "output_type": "stream",
     "text": [
      "Classification accuracy = 70.0%\n",
      "Precision = 64.7%\n",
      "TPR or Recall = 78.6%\n",
      "FNR = 21.4%\n",
      "FPR = 37.5%\n",
      "ROC-AUC = 82.1%\n"
     ]
    },
    {
     "data": {
      "image/png": "[encoded data removed]",
      "text/plain": [
       "<Figure size 640x480 with 2 Axes>"
      ]
     },
     "metadata": {},
     "output_type": "display_data"
    }
   ],
   "source": [
    "confusion_matrix_data(edu_test,edu_test.Class,model1,0.1)"
   ]
  },
  {
   "cell_type": "code",
   "execution_count": 38,
   "id": "ade67713",
   "metadata": {},
   "outputs": [
    {
     "name": "stdout",
     "output_type": "stream",
     "text": [
      "Classification accuracy = 73.3%\n",
      "Precision = 68.8%\n",
      "TPR or Recall = 78.6%\n",
      "FNR = 21.4%\n",
      "FPR = 31.2%\n",
      "ROC-AUC = 82.1%\n"
     ]
    },
    {
     "data": {
      "image/png": "[encoded data removed]",
      "text/plain": [
       "<Figure size 640x480 with 2 Axes>"
      ]
     },
     "metadata": {},
     "output_type": "display_data"
    }
   ],
   "source": [
    "confusion_matrix_data(edu_test,edu_test.Class,model2,0.1)"
   ]
  },
  {
   "cell_type": "code",
   "execution_count": 53,
   "id": "b331f287",
   "metadata": {},
   "outputs": [
    {
     "name": "stdout",
     "output_type": "stream",
     "text": [
      "Optimization terminated successfully.\n",
      "         Current function value: 0.442597\n",
      "         Iterations 7\n"
     ]
    }
   ],
   "source": [
    "model3 = smf.logit(formula = 'Class ~ gender + Discussion + raisedhands + VisITedResources  + StudentAbsenceDays', data = edu_train).fit()"
   ]
  },
  {
   "cell_type": "code",
   "execution_count": 55,
   "id": "39f783c8",
   "metadata": {},
   "outputs": [
    {
     "data": {
      "text/html": [
       "<table class=\"simpletable\">\n",
       "<caption>Logit Regression Results</caption>\n",
       "<tr>\n",
       "  <th>Dep. Variable:</th>         <td>Class</td>      <th>  No. Observations:  </th>  <td>   163</td>  \n",
       "</tr>\n",
       "<tr>\n",
       "  <th>Model:</th>                 <td>Logit</td>      <th>  Df Residuals:      </th>  <td>   157</td>  \n",
       "</tr>\n",
       "<tr>\n",
       "  <th>Method:</th>                 <td>MLE</td>       <th>  Df Model:          </th>  <td>     5</td>  \n",
       "</tr>\n",
       "<tr>\n",
       "  <th>Date:</th>            <td>Tue, 28 Feb 2023</td> <th>  Pseudo R-squ.:     </th>  <td>0.3337</td>  \n",
       "</tr>\n",
       "<tr>\n",
       "  <th>Time:</th>                <td>16:07:24</td>     <th>  Log-Likelihood:    </th> <td> -72.143</td> \n",
       "</tr>\n",
       "<tr>\n",
       "  <th>converged:</th>             <td>True</td>       <th>  LL-Null:           </th> <td> -108.27</td> \n",
       "</tr>\n",
       "<tr>\n",
       "  <th>Covariance Type:</th>     <td>nonrobust</td>    <th>  LLR p-value:       </th> <td>3.473e-14</td>\n",
       "</tr>\n",
       "</table>\n",
       "<table class=\"simpletable\">\n",
       "<tr>\n",
       "                <td></td>                   <th>coef</th>     <th>std err</th>      <th>z</th>      <th>P>|z|</th>  <th>[0.025</th>    <th>0.975]</th>  \n",
       "</tr>\n",
       "<tr>\n",
       "  <th>Intercept</th>                     <td>   -8.8265</td> <td>    1.707</td> <td>   -5.170</td> <td> 0.000</td> <td>  -12.173</td> <td>   -5.481</td>\n",
       "</tr>\n",
       "<tr>\n",
       "  <th>gender[T.M]</th>                   <td>   -1.2893</td> <td>    0.462</td> <td>   -2.792</td> <td> 0.005</td> <td>   -2.194</td> <td>   -0.384</td>\n",
       "</tr>\n",
       "<tr>\n",
       "  <th>StudentAbsenceDays[T.Under-7]</th> <td>    2.2531</td> <td>    0.789</td> <td>    2.856</td> <td> 0.004</td> <td>    0.707</td> <td>    3.799</td>\n",
       "</tr>\n",
       "<tr>\n",
       "  <th>Discussion</th>                    <td>    0.0207</td> <td>    0.008</td> <td>    2.523</td> <td> 0.012</td> <td>    0.005</td> <td>    0.037</td>\n",
       "</tr>\n",
       "<tr>\n",
       "  <th>raisedhands</th>                   <td>    0.0255</td> <td>    0.011</td> <td>    2.340</td> <td> 0.019</td> <td>    0.004</td> <td>    0.047</td>\n",
       "</tr>\n",
       "<tr>\n",
       "  <th>VisITedResources</th>              <td>    0.0553</td> <td>    0.017</td> <td>    3.189</td> <td> 0.001</td> <td>    0.021</td> <td>    0.089</td>\n",
       "</tr>\n",
       "</table>"
      ],
      "text/plain": [
       "<class 'statsmodels.iolib.summary.Summary'>\n",
       "\"\"\"\n",
       "                           Logit Regression Results                           \n",
       "==============================================================================\n",
       "Dep. Variable:                  Class   No. Observations:                  163\n",
       "Model:                          Logit   Df Residuals:                      157\n",
       "Method:                           MLE   Df Model:                            5\n",
       "Date:                Tue, 28 Feb 2023   Pseudo R-squ.:                  0.3337\n",
       "Time:                        16:07:24   Log-Likelihood:                -72.143\n",
       "converged:                       True   LL-Null:                       -108.27\n",
       "Covariance Type:            nonrobust   LLR p-value:                 3.473e-14\n",
       "=================================================================================================\n",
       "                                    coef    std err          z      P>|z|      [0.025      0.975]\n",
       "-------------------------------------------------------------------------------------------------\n",
       "Intercept                        -8.8265      1.707     -5.170      0.000     -12.173      -5.481\n",
       "gender[T.M]                      -1.2893      0.462     -2.792      0.005      -2.194      -0.384\n",
       "StudentAbsenceDays[T.Under-7]     2.2531      0.789      2.856      0.004       0.707       3.799\n",
       "Discussion                        0.0207      0.008      2.523      0.012       0.005       0.037\n",
       "raisedhands                       0.0255      0.011      2.340      0.019       0.004       0.047\n",
       "VisITedResources                  0.0553      0.017      3.189      0.001       0.021       0.089\n",
       "=================================================================================================\n",
       "\"\"\""
      ]
     },
     "execution_count": 55,
     "metadata": {},
     "output_type": "execute_result"
    }
   ],
   "source": [
    "model3.summary()"
   ]
  },
  {
   "cell_type": "code",
   "execution_count": 56,
   "id": "2e8d816c",
   "metadata": {},
   "outputs": [
    {
     "name": "stdout",
     "output_type": "stream",
     "text": [
      "Classification accuracy = 70.0%\n",
      "Precision = 64.7%\n",
      "TPR or Recall = 78.6%\n",
      "FNR = 21.4%\n",
      "FPR = 37.5%\n",
      "ROC-AUC = 81.2%\n"
     ]
    },
    {
     "data": {
      "image/png": "[encoded data removed]",
      "text/plain": [
       "<Figure size 640x480 with 2 Axes>"
      ]
     },
     "metadata": {},
     "output_type": "display_data"
    }
   ],
   "source": [
    "confusion_matrix_data(edu_test,edu_test.Class,model3,0.1)"
   ]
  },
  {
   "cell_type": "code",
   "execution_count": 57,
   "id": "b528bcd9",
   "metadata": {},
   "outputs": [
    {
     "name": "stdout",
     "output_type": "stream",
     "text": [
      "0.8640210795273076\n"
     ]
    },
    {
     "data": {
      "image/png": "[encoded data removed]",
      "text/plain": [
       "<Figure size 800x800 with 1 Axes>"
      ]
     },
     "metadata": {},
     "output_type": "display_data"
    }
   ],
   "source": [
    "y=edu_train.Class\n",
    "\n",
    "ypred = model3.predict(edu_train)\n",
    "\n",
    "fpr, tpr, auc_thresholds = roc_curve(y, ypred)\n",
    "print(auc(fpr, tpr))# AUC of ROC\n",
    "def plot_roc_curve(fpr, tpr, label=None):\n",
    "    plt.figure(figsize=(8,8))\n",
    "    plt.title('ROC Curve')\n",
    "    plt.plot(fpr, tpr, linewidth=2, label=label)\n",
    "    plt.plot([0, 1], [0, 1], 'k--')\n",
    "    plt.axis([-0.005, 1, 0, 1.005])\n",
    "    plt.xticks(np.arange(0,1, 0.05), rotation=90)\n",
    "    plt.xlabel(\"False Positive Rate\")\n",
    "    plt.ylabel(\"True Positive Rate (Recall)\")\n",
    "\n",
    "fpr, tpr, auc_thresholds = roc_curve(y, ypred)\n",
    "plot_roc_curve(fpr, tpr)"
   ]
  },
  {
   "cell_type": "code",
   "execution_count": 71,
   "id": "9f2d7b47",
   "metadata": {},
   "outputs": [
    {
     "name": "stdout",
     "output_type": "stream",
     "text": [
      "Optimization terminated successfully.\n",
      "         Current function value: 0.442597\n",
      "         Iterations 7\n"
     ]
    }
   ],
   "source": [
    "model4 = smf.logit(formula = 'Class ~ gender + Discussion + raisedhands + VisITedResources  + StudentAbsenceDays', data = edu_train).fit()"
   ]
  },
  {
   "cell_type": "code",
   "execution_count": 72,
   "id": "4323b942",
   "metadata": {},
   "outputs": [
    {
     "data": {
      "text/html": [
       "<table class=\"simpletable\">\n",
       "<caption>Logit Regression Results</caption>\n",
       "<tr>\n",
       "  <th>Dep. Variable:</th>         <td>Class</td>      <th>  No. Observations:  </th>  <td>   163</td>  \n",
       "</tr>\n",
       "<tr>\n",
       "  <th>Model:</th>                 <td>Logit</td>      <th>  Df Residuals:      </th>  <td>   157</td>  \n",
       "</tr>\n",
       "<tr>\n",
       "  <th>Method:</th>                 <td>MLE</td>       <th>  Df Model:          </th>  <td>     5</td>  \n",
       "</tr>\n",
       "<tr>\n",
       "  <th>Date:</th>            <td>Tue, 28 Feb 2023</td> <th>  Pseudo R-squ.:     </th>  <td>0.3337</td>  \n",
       "</tr>\n",
       "<tr>\n",
       "  <th>Time:</th>                <td>16:09:10</td>     <th>  Log-Likelihood:    </th> <td> -72.143</td> \n",
       "</tr>\n",
       "<tr>\n",
       "  <th>converged:</th>             <td>True</td>       <th>  LL-Null:           </th> <td> -108.27</td> \n",
       "</tr>\n",
       "<tr>\n",
       "  <th>Covariance Type:</th>     <td>nonrobust</td>    <th>  LLR p-value:       </th> <td>3.473e-14</td>\n",
       "</tr>\n",
       "</table>\n",
       "<table class=\"simpletable\">\n",
       "<tr>\n",
       "                <td></td>                   <th>coef</th>     <th>std err</th>      <th>z</th>      <th>P>|z|</th>  <th>[0.025</th>    <th>0.975]</th>  \n",
       "</tr>\n",
       "<tr>\n",
       "  <th>Intercept</th>                     <td>   -8.8265</td> <td>    1.707</td> <td>   -5.170</td> <td> 0.000</td> <td>  -12.173</td> <td>   -5.481</td>\n",
       "</tr>\n",
       "<tr>\n",
       "  <th>gender[T.M]</th>                   <td>   -1.2893</td> <td>    0.462</td> <td>   -2.792</td> <td> 0.005</td> <td>   -2.194</td> <td>   -0.384</td>\n",
       "</tr>\n",
       "<tr>\n",
       "  <th>StudentAbsenceDays[T.Under-7]</th> <td>    2.2531</td> <td>    0.789</td> <td>    2.856</td> <td> 0.004</td> <td>    0.707</td> <td>    3.799</td>\n",
       "</tr>\n",
       "<tr>\n",
       "  <th>Discussion</th>                    <td>    0.0207</td> <td>    0.008</td> <td>    2.523</td> <td> 0.012</td> <td>    0.005</td> <td>    0.037</td>\n",
       "</tr>\n",
       "<tr>\n",
       "  <th>raisedhands</th>                   <td>    0.0255</td> <td>    0.011</td> <td>    2.340</td> <td> 0.019</td> <td>    0.004</td> <td>    0.047</td>\n",
       "</tr>\n",
       "<tr>\n",
       "  <th>VisITedResources</th>              <td>    0.0553</td> <td>    0.017</td> <td>    3.189</td> <td> 0.001</td> <td>    0.021</td> <td>    0.089</td>\n",
       "</tr>\n",
       "</table>"
      ],
      "text/plain": [
       "<class 'statsmodels.iolib.summary.Summary'>\n",
       "\"\"\"\n",
       "                           Logit Regression Results                           \n",
       "==============================================================================\n",
       "Dep. Variable:                  Class   No. Observations:                  163\n",
       "Model:                          Logit   Df Residuals:                      157\n",
       "Method:                           MLE   Df Model:                            5\n",
       "Date:                Tue, 28 Feb 2023   Pseudo R-squ.:                  0.3337\n",
       "Time:                        16:09:10   Log-Likelihood:                -72.143\n",
       "converged:                       True   LL-Null:                       -108.27\n",
       "Covariance Type:            nonrobust   LLR p-value:                 3.473e-14\n",
       "=================================================================================================\n",
       "                                    coef    std err          z      P>|z|      [0.025      0.975]\n",
       "-------------------------------------------------------------------------------------------------\n",
       "Intercept                        -8.8265      1.707     -5.170      0.000     -12.173      -5.481\n",
       "gender[T.M]                      -1.2893      0.462     -2.792      0.005      -2.194      -0.384\n",
       "StudentAbsenceDays[T.Under-7]     2.2531      0.789      2.856      0.004       0.707       3.799\n",
       "Discussion                        0.0207      0.008      2.523      0.012       0.005       0.037\n",
       "raisedhands                       0.0255      0.011      2.340      0.019       0.004       0.047\n",
       "VisITedResources                  0.0553      0.017      3.189      0.001       0.021       0.089\n",
       "=================================================================================================\n",
       "\"\"\""
      ]
     },
     "execution_count": 72,
     "metadata": {},
     "output_type": "execute_result"
    }
   ],
   "source": [
    "model4.summary()"
   ]
  },
  {
   "cell_type": "code",
   "execution_count": null,
   "id": "48592a1c",
   "metadata": {},
   "outputs": [],
   "source": []
  }
 ],
 "metadata": {
  "kernelspec": {
   "display_name": "Python 3 (ipykernel)",
   "language": "python",
   "name": "python3"
  },
  "language_info": {
   "codemirror_mode": {
    "name": "ipython",
    "version": 3
   },
   "file_extension": ".py",
   "mimetype": "text/x-python",
   "name": "python",
   "nbconvert_exporter": "python",
   "pygments_lexer": "ipython3",
   "version": "3.9.13"
  }
 },
 "nbformat": 4,
 "nbformat_minor": 5
}
